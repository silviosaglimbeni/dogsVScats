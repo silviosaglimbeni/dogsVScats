{
 "cells": [
  {
   "cell_type": "code",
   "execution_count": 1,
   "metadata": {},
   "outputs": [
    {
     "name": "stderr",
     "output_type": "stream",
     "text": [
      "Using TensorFlow backend.\n"
     ]
    }
   ],
   "source": [
    "from keras.preprocessing.image import ImageDataGenerator, array_to_img, img_to_array, load_img\n",
    "from keras.models import Sequential\n",
    "from keras.layers import Conv2D, MaxPooling2D\n",
    "from keras.layers import Activation, Dropout, Flatten, Dense\n",
    "from keras.callbacks import EarlyStopping\n",
    "from keras.utils import to_categorical\n",
    "from glob import glob\n",
    "import numpy as np"
   ]
  },
  {
   "cell_type": "code",
   "execution_count": 3,
   "metadata": {},
   "outputs": [
    {
     "name": "stdout",
     "output_type": "stream",
     "text": [
      "Found 25000 images belonging to 2 classes.\n"
     ]
    }
   ],
   "source": [
    "batch_size = 16\n",
    "\n",
    "# this is the configuration for training set \n",
    "train_datagen = ImageDataGenerator(\n",
    "        rescale=1./255,\n",
    "        shear_range=0.2,\n",
    "        zoom_range=0.2,\n",
    "        horizontal_flip=True)\n",
    "\n",
    "# For testing only rescaling\n",
    "test_datagen = ImageDataGenerator(rescale=1./255)\n",
    "\n",
    "# this is a generator, will read pictures found in subfolers of 'data/train'\n",
    "data_generator = train_datagen.flow_from_directory(\n",
    "        './train/',  # this is the target directory\n",
    "        target_size=(64, 64),  # all images will be resized to 150x150\n",
    "        color_mode = 'grayscale', # rgb\n",
    "        batch_size=batch_size,\n",
    "        class_mode='binary')  # since we use binary_crossentropy loss, we need binary labels\n"
   ]
  },
  {
   "cell_type": "code",
   "execution_count": 4,
   "metadata": {
    "collapsed": true
   },
   "outputs": [],
   "source": [
    "X = list()\n",
    "y = list()\n",
    "batch_index = 0\n",
    "\n",
    "while batch_index <= data_generator.batch_index:\n",
    "    data = data_generator.next()\n",
    "    for batch_data_X,batch_data_y in zip(data[0],data[1]):\n",
    "        X.append(batch_data_X)\n",
    "        y.append(batch_data_y)\n",
    "    batch_index = batch_index + 1\n",
    "    if batch_index>1000:\n",
    "        break\n",
    "del data_generator\n",
    "X = np.asarray(X)\n",
    "y = to_categorical(y, num_classes=2)"
   ]
  },
  {
   "cell_type": "code",
   "execution_count": 5,
   "metadata": {},
   "outputs": [
    {
     "data": {
      "text/plain": [
       "(16016, 64, 64, 1)"
      ]
     },
     "execution_count": 5,
     "metadata": {},
     "output_type": "execute_result"
    }
   ],
   "source": [
    "X.shape"
   ]
  },
  {
   "cell_type": "code",
   "execution_count": 6,
   "metadata": {
    "collapsed": true
   },
   "outputs": [],
   "source": [
    "n_imgs = X.shape[0]\n",
    "n_cols = X.shape[1]*X.shape[2]"
   ]
  },
  {
   "cell_type": "code",
   "execution_count": 8,
   "metadata": {},
   "outputs": [],
   "source": [
    "model = Sequential()\n",
    "model.add(Conv2D(32,kernel_size=(3, 3), activation= 'relu',  input_shape=X.shape[1:]))\n",
    "model.add(MaxPooling2D(pool_size=(3, 3)))\n",
    "model.add(Flatten())\n",
    "\n",
    "model.add(Dense(3,activation='relu'))\n",
    "\n",
    "model.add(Dropout(0.2))\n",
    "model.add(Dense(2,activation='softmax',input_shape= (n_cols,) ))"
   ]
  },
  {
   "cell_type": "code",
   "execution_count": 9,
   "metadata": {
    "collapsed": true
   },
   "outputs": [],
   "source": [
    "model.compile(loss='categorical_crossentropy',\n",
    "              optimizer='adam',\n",
    "              metrics=['accuracy'])"
   ]
  },
  {
   "cell_type": "code",
   "execution_count": 10,
   "metadata": {
    "collapsed": true
   },
   "outputs": [],
   "source": [
    "my_callback = EarlyStopping(patience=3)"
   ]
  },
  {
   "cell_type": "code",
   "execution_count": 11,
   "metadata": {
    "scrolled": true
   },
   "outputs": [
    {
     "name": "stdout",
     "output_type": "stream",
     "text": [
      "Train on 12812 samples, validate on 3204 samples\n",
      "Epoch 1/50\n",
      "12812/12812 [==============================] - 30s 2ms/step - loss: 0.6897 - acc: 0.5302 - val_loss: 0.6817 - val_acc: 0.5546\n",
      "Epoch 2/50\n",
      "12812/12812 [==============================] - 28s 2ms/step - loss: 0.6706 - acc: 0.5913 - val_loss: 0.6581 - val_acc: 0.5943\n",
      "Epoch 3/50\n",
      "12812/12812 [==============================] - 28s 2ms/step - loss: 0.6566 - acc: 0.6197 - val_loss: 0.6478 - val_acc: 0.6096\n",
      "Epoch 4/50\n",
      "12812/12812 [==============================] - 28s 2ms/step - loss: 0.6384 - acc: 0.6451 - val_loss: 0.6270 - val_acc: 0.6539\n",
      "Epoch 5/50\n",
      "12812/12812 [==============================] - 30s 2ms/step - loss: 0.6248 - acc: 0.6560 - val_loss: 0.6185 - val_acc: 0.6863\n",
      "Epoch 6/50\n",
      "12812/12812 [==============================] - 28s 2ms/step - loss: 0.6171 - acc: 0.6659 - val_loss: 0.6090 - val_acc: 0.6944\n",
      "Epoch 7/50\n",
      "12812/12812 [==============================] - 29s 2ms/step - loss: 0.6097 - acc: 0.6747 - val_loss: 0.6043 - val_acc: 0.6929\n",
      "Epoch 8/50\n",
      "12812/12812 [==============================] - 29s 2ms/step - loss: 0.6036 - acc: 0.6814 - val_loss: 0.5923 - val_acc: 0.6969\n",
      "Epoch 9/50\n",
      "12812/12812 [==============================] - 28s 2ms/step - loss: 0.5945 - acc: 0.6884 - val_loss: 0.5863 - val_acc: 0.7013\n",
      "Epoch 10/50\n",
      "12812/12812 [==============================] - 28s 2ms/step - loss: 0.5887 - acc: 0.6910 - val_loss: 0.6069 - val_acc: 0.6829\n",
      "Epoch 11/50\n",
      "12812/12812 [==============================] - 28s 2ms/step - loss: 0.5794 - acc: 0.7043 - val_loss: 0.5762 - val_acc: 0.7072\n",
      "Epoch 12/50\n",
      "12812/12812 [==============================] - 28s 2ms/step - loss: 0.5736 - acc: 0.7072 - val_loss: 0.5711 - val_acc: 0.7154\n",
      "Epoch 13/50\n",
      "12812/12812 [==============================] - 28s 2ms/step - loss: 0.5724 - acc: 0.7069 - val_loss: 0.5696 - val_acc: 0.7169\n",
      "Epoch 14/50\n",
      "12812/12812 [==============================] - 28s 2ms/step - loss: 0.5638 - acc: 0.7153 - val_loss: 0.5685 - val_acc: 0.7166\n",
      "Epoch 15/50\n",
      "12812/12812 [==============================] - 28s 2ms/step - loss: 0.5604 - acc: 0.7196 - val_loss: 0.5720 - val_acc: 0.7141\n",
      "Epoch 16/50\n",
      "12812/12812 [==============================] - 28s 2ms/step - loss: 0.5521 - acc: 0.7286 - val_loss: 0.5637 - val_acc: 0.7253\n",
      "Epoch 17/50\n",
      "12812/12812 [==============================] - 28s 2ms/step - loss: 0.5511 - acc: 0.7254 - val_loss: 0.5658 - val_acc: 0.7241\n",
      "Epoch 18/50\n",
      "12812/12812 [==============================] - 28s 2ms/step - loss: 0.5466 - acc: 0.7313 - val_loss: 0.5626 - val_acc: 0.7241\n",
      "Epoch 19/50\n",
      "12812/12812 [==============================] - 28s 2ms/step - loss: 0.5492 - acc: 0.7252 - val_loss: 0.5623 - val_acc: 0.7228\n",
      "Epoch 20/50\n",
      "12812/12812 [==============================] - 28s 2ms/step - loss: 0.5431 - acc: 0.7322 - val_loss: 0.5568 - val_acc: 0.7300\n",
      "Epoch 21/50\n",
      "12812/12812 [==============================] - 28s 2ms/step - loss: 0.5326 - acc: 0.7408 - val_loss: 0.5695 - val_acc: 0.7122\n",
      "Epoch 22/50\n",
      "12812/12812 [==============================] - 28s 2ms/step - loss: 0.5361 - acc: 0.7367 - val_loss: 0.5560 - val_acc: 0.7363\n",
      "Epoch 23/50\n",
      "12812/12812 [==============================] - 29s 2ms/step - loss: 0.5328 - acc: 0.7385 - val_loss: 0.5579 - val_acc: 0.7260\n",
      "Epoch 24/50\n",
      "12812/12812 [==============================] - 30s 2ms/step - loss: 0.5288 - acc: 0.7419 - val_loss: 0.5591 - val_acc: 0.7272\n",
      "Epoch 25/50\n",
      "12812/12812 [==============================] - 29s 2ms/step - loss: 0.5263 - acc: 0.7452 - val_loss: 0.5670 - val_acc: 0.7091\n"
     ]
    },
    {
     "data": {
      "text/plain": [
       "<keras.callbacks.History at 0x1820c7e978>"
      ]
     },
     "execution_count": 11,
     "metadata": {},
     "output_type": "execute_result"
    }
   ],
   "source": [
    "model.fit(X, y,\n",
    "        batch_size=150, \n",
    "        epochs=50,\n",
    "        validation_split=0.2,\n",
    "        callbacks =  [my_callback])\n",
    "model.save_weights('first_try.h5')  # always save your weights after training or during training"
   ]
  },
  {
   "cell_type": "code",
   "execution_count": 13,
   "metadata": {},
   "outputs": [
    {
     "name": "stdout",
     "output_type": "stream",
     "text": [
      "_________________________________________________________________\n",
      "Layer (type)                 Output Shape              Param #   \n",
      "=================================================================\n",
      "conv2d_1 (Conv2D)            (None, 62, 62, 32)        320       \n",
      "_________________________________________________________________\n",
      "max_pooling2d_1 (MaxPooling2 (None, 20, 20, 32)        0         \n",
      "_________________________________________________________________\n",
      "flatten_1 (Flatten)          (None, 12800)             0         \n",
      "_________________________________________________________________\n",
      "dense_1 (Dense)              (None, 3)                 38403     \n",
      "_________________________________________________________________\n",
      "dropout_1 (Dropout)          (None, 3)                 0         \n",
      "_________________________________________________________________\n",
      "dense_2 (Dense)              (None, 2)                 8         \n",
      "=================================================================\n",
      "Total params: 38,731\n",
      "Trainable params: 38,731\n",
      "Non-trainable params: 0\n",
      "_________________________________________________________________\n"
     ]
    }
   ],
   "source": [
    "model.summary()"
   ]
  },
  {
   "cell_type": "code",
   "execution_count": null,
   "metadata": {
    "collapsed": true
   },
   "outputs": [],
   "source": []
  }
 ],
 "metadata": {
  "kernelspec": {
   "display_name": "Python 3",
   "language": "python",
   "name": "python3"
  },
  "language_info": {
   "codemirror_mode": {
    "name": "ipython",
    "version": 3
   },
   "file_extension": ".py",
   "mimetype": "text/x-python",
   "name": "python",
   "nbconvert_exporter": "python",
   "pygments_lexer": "ipython3",
   "version": "3.6.3"
  }
 },
 "nbformat": 4,
 "nbformat_minor": 2
}
