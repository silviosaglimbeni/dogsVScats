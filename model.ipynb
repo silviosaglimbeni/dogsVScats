{
 "cells": [
  {
   "cell_type": "code",
   "execution_count": 4,
   "metadata": {},
   "outputs": [],
   "source": [
    "from keras.preprocessing.image import ImageDataGenerator, array_to_img, img_to_array, load_img\n",
    "from keras.models import Sequential\n",
    "from keras.layers import Conv2D, MaxPooling2D\n",
    "from keras.layers import Activation, Dropout, Flatten, Dense\n",
    "from keras.callbacks import EarlyStopping\n",
    "from keras.utils import to_categorical\n",
    "from glob import glob\n",
    "import numpy as np"
   ]
  },
  {
   "cell_type": "code",
   "execution_count": 5,
   "metadata": {},
   "outputs": [
    {
     "name": "stdout",
     "output_type": "stream",
     "text": [
      "Found 25000 images belonging to 2 classes.\n"
     ]
    }
   ],
   "source": [
    "batch_size = 16\n",
    "\n",
    "# this is the configuration for training set \n",
    "train_datagen = ImageDataGenerator(\n",
    "        rescale=1./255,\n",
    "        shear_range=0.2,\n",
    "        zoom_range=0.2,\n",
    "        horizontal_flip=True)\n",
    "\n",
    "# For testing only rescaling\n",
    "test_datagen = ImageDataGenerator(rescale=1./255)\n",
    "\n",
    "# this is a generator, will read pictures found in subfolers of 'data/train'\n",
    "data_generator = train_datagen.flow_from_directory(\n",
    "        './train/',  # this is the target directory\n",
    "        target_size=(64, 64),  # all images will be resized to 150x150\n",
    "        color_mode = 'rgb', # rgb, grayscale\n",
    "        batch_size=batch_size,\n",
    "        class_mode='binary')  # since we use binary_crossentropy loss, we need binary labels\n"
   ]
  },
  {
   "cell_type": "code",
   "execution_count": 6,
   "metadata": {},
   "outputs": [],
   "source": [
    "X = list()\n",
    "y = list()\n",
    "batch_index = 0\n",
    "\n",
    "while batch_index <= data_generator.batch_index:\n",
    "    data = data_generator.next()\n",
    "    for batch_data_X,batch_data_y in zip(data[0],data[1]):\n",
    "        X.append(batch_data_X)\n",
    "        y.append(batch_data_y)\n",
    "    batch_index = batch_index + 1\n",
    "    #if batch_index>1000:\n",
    "    #    break\n",
    "del data_generator\n",
    "X = np.asarray(X)\n",
    "y = to_categorical(y, num_classes=2)"
   ]
  },
  {
   "cell_type": "code",
   "execution_count": 7,
   "metadata": {},
   "outputs": [
    {
     "data": {
      "text/plain": [
       "(25000, 64, 64, 3)"
      ]
     },
     "execution_count": 7,
     "metadata": {},
     "output_type": "execute_result"
    }
   ],
   "source": [
    "X.shape"
   ]
  },
  {
   "cell_type": "code",
   "execution_count": 8,
   "metadata": {
    "collapsed": true
   },
   "outputs": [],
   "source": [
    "n_imgs = X.shape[0]\n",
    "n_cols = X.shape[1]*X.shape[2]"
   ]
  },
  {
   "cell_type": "code",
   "execution_count": 9,
   "metadata": {
    "collapsed": true
   },
   "outputs": [],
   "source": [
    "model = Sequential()\n",
    "model.add(Conv2D(32,kernel_size=(3, 3), activation= 'relu',  input_shape=X.shape[1:]))\n",
    "model.add(MaxPooling2D(pool_size=(3, 3)))\n",
    "model.add(Flatten())\n",
    "\n",
    "model.add(Dense(150,activation='relu'))\n",
    "\n",
    "model.add(Dropout(0.2))\n",
    "model.add(Dense(2,activation='softmax',input_shape= (n_cols,) ))"
   ]
  },
  {
   "cell_type": "code",
   "execution_count": 10,
   "metadata": {
    "collapsed": true
   },
   "outputs": [],
   "source": [
    "model.compile(loss='categorical_crossentropy',\n",
    "              optimizer='adam',\n",
    "              metrics=['accuracy'])"
   ]
  },
  {
   "cell_type": "code",
   "execution_count": null,
   "metadata": {
    "collapsed": true
   },
   "outputs": [],
   "source": [
    "my_callback = EarlyStopping(patience=3)"
   ]
  },
  {
   "cell_type": "code",
   "execution_count": null,
   "metadata": {
    "scrolled": true
   },
   "outputs": [
    {
     "name": "stdout",
     "output_type": "stream",
     "text": [
      "Train on 20000 samples, validate on 5000 samples\n",
      "Epoch 1/50\n",
      "20000/20000 [==============================] - 65s 3ms/step - loss: 0.6763 - acc: 0.6097 - val_loss: 0.6135 - val_acc: 0.6634\n",
      "Epoch 2/50\n",
      "20000/20000 [==============================] - 62s 3ms/step - loss: 0.5838 - acc: 0.6949 - val_loss: 0.5695 - val_acc: 0.7036\n",
      "Epoch 3/50\n",
      "20000/20000 [==============================] - 63s 3ms/step - loss: 0.5422 - acc: 0.7262 - val_loss: 0.5461 - val_acc: 0.7276\n",
      "Epoch 4/50\n",
      "20000/20000 [==============================] - 62s 3ms/step - loss: 0.5204 - acc: 0.7426 - val_loss: 0.5316 - val_acc: 0.7302\n",
      "Epoch 5/50\n",
      "20000/20000 [==============================] - 59s 3ms/step - loss: 0.4976 - acc: 0.7564 - val_loss: 0.5192 - val_acc: 0.7486\n",
      "Epoch 6/50\n",
      "20000/20000 [==============================] - 57s 3ms/step - loss: 0.4736 - acc: 0.7719 - val_loss: 0.5279 - val_acc: 0.7258\n",
      "Epoch 7/50\n",
      "20000/20000 [==============================] - 57s 3ms/step - loss: 0.4549 - acc: 0.7813 - val_loss: 0.5504 - val_acc: 0.7260\n",
      "Epoch 8/50\n",
      "20000/20000 [==============================] - 58s 3ms/step - loss: 0.4386 - acc: 0.7944 - val_loss: 0.5073 - val_acc: 0.7492\n",
      "Epoch 9/50\n",
      "20000/20000 [==============================] - 64s 3ms/step - loss: 0.4214 - acc: 0.8069 - val_loss: 0.5124 - val_acc: 0.7536\n",
      "Epoch 10/50\n",
      "20000/20000 [==============================] - 62s 3ms/step - loss: 0.3994 - acc: 0.8178 - val_loss: 0.5086 - val_acc: 0.7578\n",
      "Epoch 11/50\n",
      "  300/20000 [..............................] - ETA: 58s - loss: 0.3746 - acc: 0.8333"
     ]
    }
   ],
   "source": [
    "model.fit(X, y,\n",
    "        batch_size=150, \n",
    "        epochs=50,\n",
    "        validation_split=0.2,\n",
    "        callbacks =  [my_callback])\n",
    "model.save_weights('first_try.h5')  # always save your weights after training or during training"
   ]
  },
  {
   "cell_type": "code",
   "execution_count": 13,
   "metadata": {},
   "outputs": [
    {
     "name": "stdout",
     "output_type": "stream",
     "text": [
      "_________________________________________________________________\n",
      "Layer (type)                 Output Shape              Param #   \n",
      "=================================================================\n",
      "conv2d_1 (Conv2D)            (None, 62, 62, 32)        320       \n",
      "_________________________________________________________________\n",
      "max_pooling2d_1 (MaxPooling2 (None, 20, 20, 32)        0         \n",
      "_________________________________________________________________\n",
      "flatten_1 (Flatten)          (None, 12800)             0         \n",
      "_________________________________________________________________\n",
      "dense_1 (Dense)              (None, 3)                 38403     \n",
      "_________________________________________________________________\n",
      "dropout_1 (Dropout)          (None, 3)                 0         \n",
      "_________________________________________________________________\n",
      "dense_2 (Dense)              (None, 2)                 8         \n",
      "=================================================================\n",
      "Total params: 38,731\n",
      "Trainable params: 38,731\n",
      "Non-trainable params: 0\n",
      "_________________________________________________________________\n"
     ]
    }
   ],
   "source": [
    "model.summary()"
   ]
  },
  {
   "cell_type": "code",
   "execution_count": null,
   "metadata": {
    "collapsed": true
   },
   "outputs": [],
   "source": []
  }
 ],
 "metadata": {
  "kernelspec": {
   "display_name": "Python 3",
   "language": "python",
   "name": "python3"
  },
  "language_info": {
   "codemirror_mode": {
    "name": "ipython",
    "version": 3
   },
   "file_extension": ".py",
   "mimetype": "text/x-python",
   "name": "python",
   "nbconvert_exporter": "python",
   "pygments_lexer": "ipython3",
   "version": "3.6.3"
  }
 },
 "nbformat": 4,
 "nbformat_minor": 2
}
